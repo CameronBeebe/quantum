{
 "cells": [
  {
   "cell_type": "code",
   "execution_count": 19,
   "metadata": {},
   "outputs": [],
   "source": [
    "# CB: Some qubit basics representated in LaTeX and numpy.\n",
    "# CB: This is NOT comprehensive in any way.  Just a starting place.\n",
    "# CB: Note: If writing Dirac notation in a TeX document, please use the braket package!\n",
    "import numpy as np"
   ]
  },
  {
   "cell_type": "code",
   "execution_count": 2,
   "metadata": {},
   "outputs": [
    {
     "data": {
      "text/latex": [
       "$$|0\\rangle = \\begin{bmatrix}\n",
       "1 \\\\\n",
       "0 \\\\\n",
       "\\end{bmatrix}$$\n",
       "\n",
       "$$|1\\rangle = \\begin{bmatrix}\n",
       "0 \\\\\n",
       "1 \\\\\n",
       "\\end{bmatrix}$$\n"
      ],
      "text/plain": [
       "<IPython.core.display.Latex object>"
      ]
     },
     "metadata": {},
     "output_type": "display_data"
    }
   ],
   "source": [
    "%%latex\n",
    "$$|0\\rangle = \\begin{bmatrix}\n",
    "1 \\\\\n",
    "0 \\\\\n",
    "\\end{bmatrix}$$\n",
    "\n",
    "$$|1\\rangle = \\begin{bmatrix}\n",
    "0 \\\\\n",
    "1 \\\\\n",
    "\\end{bmatrix}$$"
   ]
  },
  {
   "cell_type": "code",
   "execution_count": 10,
   "metadata": {},
   "outputs": [
    {
     "data": {
      "text/latex": [
       "\n",
       "The state of a qubit with complex coefficients $\\alpha$ and $\\beta$.\n",
       "\n",
       "$$|\\psi\\rangle = \\alpha|0\\rangle + \\beta|1\\rangle = \\begin{bmatrix}\n",
       "\\alpha \\\\\n",
       "0 \\\\\n",
       "\\end{bmatrix} + \\begin{bmatrix}\n",
       "0 \\\\\n",
       "\\beta \\\\\n",
       "\\end{bmatrix} = \\begin{bmatrix}\n",
       "\\alpha \\\\\n",
       "\\beta \\\\\n",
       "\\end{bmatrix}$$\n"
      ],
      "text/plain": [
       "<IPython.core.display.Latex object>"
      ]
     },
     "metadata": {},
     "output_type": "display_data"
    }
   ],
   "source": [
    "%%latex\n",
    "\n",
    "The state of a qubit with complex coefficients $\\alpha$ and $\\beta$.\n",
    "\n",
    "$$|\\psi\\rangle = \\alpha|0\\rangle + \\beta|1\\rangle = \\begin{bmatrix}\n",
    "\\alpha \\\\\n",
    "0 \\\\\n",
    "\\end{bmatrix} + \\begin{bmatrix}\n",
    "0 \\\\\n",
    "\\beta \\\\\n",
    "\\end{bmatrix} = \\begin{bmatrix}\n",
    "\\alpha \\\\\n",
    "\\beta \\\\\n",
    "\\end{bmatrix}$$"
   ]
  },
  {
   "cell_type": "code",
   "execution_count": 4,
   "metadata": {},
   "outputs": [
    {
     "data": {
      "text/latex": [
       "\n",
       "Conjugate transpose of state vector\n",
       "$$\\langle \\psi | = \\alpha^*\\langle 0| + \\beta^*\\langle 1| = \\begin{bmatrix}\n",
       "\\alpha^* & 0\n",
       "\\end{bmatrix} + \\begin{bmatrix}\n",
       "0 & \\beta^*\n",
       "\\end{bmatrix} = \\begin{bmatrix}\n",
       "\\alpha^* & \\beta^*\n",
       "\\end{bmatrix}$$\n"
      ],
      "text/plain": [
       "<IPython.core.display.Latex object>"
      ]
     },
     "metadata": {},
     "output_type": "display_data"
    }
   ],
   "source": [
    "%%latex\n",
    "\n",
    "Conjugate transpose of state vector\n",
    "$$\\langle \\psi | = \\alpha^*\\langle 0| + \\beta^*\\langle 1| = \\begin{bmatrix}\n",
    "\\alpha^* & 0\n",
    "\\end{bmatrix} + \\begin{bmatrix}\n",
    "0 & \\beta^*\n",
    "\\end{bmatrix} = \\begin{bmatrix}\n",
    "\\alpha^* & \\beta^*\n",
    "\\end{bmatrix}$$"
   ]
  },
  {
   "cell_type": "code",
   "execution_count": 5,
   "metadata": {},
   "outputs": [
    {
     "data": {
      "text/latex": [
       "\n",
       "The inner product is a number.  1 by 2 times 2 by 1 = 1 by 1.\n",
       "\n",
       "$$\\langle \\psi | \\psi \\rangle = \\begin{bmatrix}\n",
       "\\alpha^* & \\beta^*\n",
       "\\end{bmatrix} \\cdot \\begin{bmatrix}\n",
       "\\alpha \\\\\n",
       "\\beta \\\\\n",
       "\\end{bmatrix} = \\alpha^*\\alpha + \\beta^*\\beta$$\n"
      ],
      "text/plain": [
       "<IPython.core.display.Latex object>"
      ]
     },
     "metadata": {},
     "output_type": "display_data"
    }
   ],
   "source": [
    "%%latex\n",
    "\n",
    "The inner product is a number.  1 by 2 times 2 by 1 = 1 by 1.\n",
    "\n",
    "$$\\langle \\psi | \\psi \\rangle = \\begin{bmatrix}\n",
    "\\alpha^* & \\beta^*\n",
    "\\end{bmatrix} \\cdot \\begin{bmatrix}\n",
    "\\alpha \\\\\n",
    "\\beta \\\\\n",
    "\\end{bmatrix} = \\alpha^*\\alpha + \\beta^*\\beta$$"
   ]
  },
  {
   "cell_type": "code",
   "execution_count": 6,
   "metadata": {},
   "outputs": [
    {
     "data": {
      "text/latex": [
       "\n",
       "The outer product is a matrix.  2 by 1 times 1 by 2 = 2 by 2.\n",
       "$$|\\psi \\rangle \\langle \\psi | = \\begin{bmatrix}\n",
       "\\alpha \\\\\n",
       "\\beta \\\\\n",
       "\\end{bmatrix} \\cdot \\begin{bmatrix}\n",
       "\\alpha^* & \\beta^*\n",
       "\\end{bmatrix} = \\begin{bmatrix}\n",
       "\\alpha\\alpha^* & \\alpha\\beta^* \\\\\n",
       "\\beta\\alpha^* & \\beta\\beta^* \\\\ \\end{bmatrix}$$\n"
      ],
      "text/plain": [
       "<IPython.core.display.Latex object>"
      ]
     },
     "metadata": {},
     "output_type": "display_data"
    }
   ],
   "source": [
    "%%latex \n",
    "\n",
    "The outer product is a matrix (operator).  2 by 1 times 1 by 2 = 2 by 2.\n",
    "$$|\\psi \\rangle \\langle \\psi | = \\begin{bmatrix}\n",
    "\\alpha \\\\\n",
    "\\beta \\\\\n",
    "\\end{bmatrix} \\cdot \\begin{bmatrix}\n",
    "\\alpha^* & \\beta^*\n",
    "\\end{bmatrix} = \\begin{bmatrix}\n",
    "\\alpha\\alpha^* & \\alpha\\beta^* \\\\\n",
    "\\beta\\alpha^* & \\beta\\beta^* \\\\ \\end{bmatrix}$$"
   ]
  },
  {
   "cell_type": "code",
   "execution_count": 7,
   "metadata": {},
   "outputs": [
    {
     "data": {
      "text/latex": [
       "\n",
       "The Born rule relates amplitude (coefficients) to measurement probabilities.\n",
       "$$|\\alpha|^2 + |\\beta|^2 = 1$$\n"
      ],
      "text/plain": [
       "<IPython.core.display.Latex object>"
      ]
     },
     "metadata": {},
     "output_type": "display_data"
    }
   ],
   "source": [
    "%%latex\n",
    "\n",
    "The Born rule relates amplitude (coefficients) to measurement probabilities.\n",
    "$$|\\alpha|^2 + |\\beta|^2 = 1$$"
   ]
  },
  {
   "cell_type": "code",
   "execution_count": 11,
   "metadata": {},
   "outputs": [
    {
     "data": {
      "text/latex": [
       "\n",
       "State preparation: Assume we can initialize all qubits to $|0\\rangle$\n"
      ],
      "text/plain": [
       "<IPython.core.display.Latex object>"
      ]
     },
     "metadata": {},
     "output_type": "display_data"
    }
   ],
   "source": [
    "%%latex\n",
    "\n",
    "State preparation: Assume we can initialize all qubits to $|0\\rangle$"
   ]
  },
  {
   "cell_type": "code",
   "execution_count": 17,
   "metadata": {},
   "outputs": [
    {
     "data": {
      "text/latex": [
       "\n",
       "Quantum gates (operators) are represented by matrices.  E.g. Hadamard gate $\\mathbf{H}$\n",
       "\n",
       "$$\\mathbf{H} = \\frac{1}{\\sqrt{2}} \\begin{bmatrix}\n",
       "1 & 1 \\\\\n",
       "1 & -1 \\\\\n",
       "\\end{bmatrix}$$\n",
       "\n",
       "Operation on basis states:\n",
       "\n",
       "$$\\mathbf{H}|0\\rangle = \\frac{|0\\rangle + |1\\rangle}{\\sqrt{2}}$$\n",
       "\n",
       "Exercise: Work out $\\mathbf{H}|1\\rangle$.\n"
      ],
      "text/plain": [
       "<IPython.core.display.Latex object>"
      ]
     },
     "metadata": {},
     "output_type": "display_data"
    }
   ],
   "source": [
    "%%latex\n",
    "\n",
    "Quantum gates (operators) are represented by matrices.  E.g. Single qubit Hadamard gate $\\mathbf{H}$\n",
    "\n",
    "$$\\mathbf{H} = \\frac{1}{\\sqrt{2}} \\begin{bmatrix}\n",
    "1 & 1 \\\\\n",
    "1 & -1 \\\\\n",
    "\\end{bmatrix}$$\n",
    "\n",
    "Operation on basis states:\n",
    "\n",
    "$$\\mathbf{H}|0\\rangle = \\frac{|0\\rangle + |1\\rangle}{\\sqrt{2}}$$\n",
    "\n",
    "Exercise: Work out $\\mathbf{H}|1\\rangle$."
   ]
  },
  {
   "cell_type": "code",
   "execution_count": 18,
   "metadata": {},
   "outputs": [
    {
     "data": {
      "text/latex": [
       "\n",
       "Controlled-NOT gate $\\mathbf{CNOT}$ \n",
       "\n",
       "$$\\mathbf{CNOT} = \\begin{bmatrix}\n",
       "1 & 0 & 0 & 0 \\\\\n",
       "0 & 1 & 0 & 0 \\\\\n",
       "0 & 0 & 0 & 1 \\\\\n",
       "0 & 0 & 1 & 0 \\\\\n",
       "\\end{bmatrix}$$\n"
      ],
      "text/plain": [
       "<IPython.core.display.Latex object>"
      ]
     },
     "metadata": {},
     "output_type": "display_data"
    }
   ],
   "source": [
    "%%latex\n",
    "\n",
    "Controlled-NOT gate $\\mathbf{CNOT}$ \n",
    "\n",
    "$$\\mathbf{CNOT} = \\begin{bmatrix}\n",
    "1 & 0 & 0 & 0 \\\\\n",
    "0 & 1 & 0 & 0 \\\\\n",
    "0 & 0 & 0 & 1 \\\\\n",
    "0 & 0 & 1 & 0 \\\\\n",
    "\\end{bmatrix}$$"
   ]
  },
  {
   "cell_type": "code",
   "execution_count": 25,
   "metadata": {},
   "outputs": [
    {
     "data": {
      "text/plain": [
       "(array([[1],\n",
       "        [0]]),\n",
       " array([[0],\n",
       "        [1]]))"
      ]
     },
     "execution_count": 25,
     "metadata": {},
     "output_type": "execute_result"
    }
   ],
   "source": [
    "ket_0 = np.array([[1],[0]])\n",
    "ket_1 = np.array([[0],[1]])\n",
    "ket_0, ket_1"
   ]
  },
  {
   "cell_type": "code",
   "execution_count": 30,
   "metadata": {},
   "outputs": [
    {
     "data": {
      "text/plain": [
       "array([[ 0.70710678,  0.70710678],\n",
       "       [ 0.70710678, -0.70710678]])"
      ]
     },
     "execution_count": 30,
     "metadata": {},
     "output_type": "execute_result"
    }
   ],
   "source": [
    "had = 1/np.sqrt(2) * np.array([[1,1],[1,-1]])\n",
    "had"
   ]
  },
  {
   "cell_type": "code",
   "execution_count": 34,
   "metadata": {},
   "outputs": [
    {
     "data": {
      "text/plain": [
       "(array([[0.70710678],\n",
       "        [0.70710678]]),\n",
       " array([[ 0.70710678],\n",
       "        [-0.70710678]]))"
      ]
     },
     "execution_count": 34,
     "metadata": {},
     "output_type": "execute_result"
    }
   ],
   "source": [
    "np.matmul(had,ket_0), np.matmul(had,ket_1)"
   ]
  },
  {
   "cell_type": "code",
   "execution_count": 22,
   "metadata": {},
   "outputs": [],
   "source": [
    "cnot = np.array([[1,0,0,0],[0,1,0,0],[0,0,0,1],[0,0,1,0]])"
   ]
  },
  {
   "cell_type": "code",
   "execution_count": null,
   "metadata": {},
   "outputs": [],
   "source": [
    "# Apply for sanity checks"
   ]
  },
  {
   "cell_type": "code",
   "execution_count": 44,
   "metadata": {},
   "outputs": [
    {
     "data": {
      "text/plain": [
       "(array([[1],\n",
       "        [0],\n",
       "        [0],\n",
       "        [0]]),\n",
       " array([[1],\n",
       "        [0],\n",
       "        [0],\n",
       "        [0]]))"
      ]
     },
     "execution_count": 44,
     "metadata": {},
     "output_type": "execute_result"
    }
   ],
   "source": [
    "np.kron(ket_0,ket_0), np.matmul(cnot, np.kron(ket_0,ket_0))"
   ]
  },
  {
   "cell_type": "code",
   "execution_count": 43,
   "metadata": {},
   "outputs": [
    {
     "data": {
      "text/plain": [
       "(array([[0],\n",
       "        [0],\n",
       "        [1],\n",
       "        [0]]),\n",
       " array([[0],\n",
       "        [0],\n",
       "        [0],\n",
       "        [1]]))"
      ]
     },
     "execution_count": 43,
     "metadata": {},
     "output_type": "execute_result"
    }
   ],
   "source": [
    "np.kron(ket_1,ket_0), np.matmul(cnot, np.kron(ket_1,ket_0))"
   ]
  },
  {
   "cell_type": "code",
   "execution_count": 45,
   "metadata": {},
   "outputs": [],
   "source": [
    "# Exercise: work out other two cases"
   ]
  },
  {
   "cell_type": "code",
   "execution_count": null,
   "metadata": {},
   "outputs": [],
   "source": []
  }
 ],
 "metadata": {
  "kernelspec": {
   "display_name": "Python 3",
   "language": "python",
   "name": "python3"
  },
  "language_info": {
   "codemirror_mode": {
    "name": "ipython",
    "version": 3
   },
   "file_extension": ".py",
   "mimetype": "text/x-python",
   "name": "python",
   "nbconvert_exporter": "python",
   "pygments_lexer": "ipython3",
   "version": "3.7.7"
  }
 },
 "nbformat": 4,
 "nbformat_minor": 4
}
