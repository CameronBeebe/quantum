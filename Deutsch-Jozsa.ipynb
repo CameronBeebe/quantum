{
 "cells": [
  {
   "cell_type": "code",
   "execution_count": 2,
   "metadata": {},
   "outputs": [],
   "source": [
    "# CB: The Deutsch-Jozsa algorithm is a very basic toy circuit.  (N&C 1.4.2-1.4.4)"
   ]
  },
  {
   "cell_type": "code",
   "execution_count": 23,
   "metadata": {},
   "outputs": [],
   "source": [
    "import numpy as np"
   ]
  },
  {
   "cell_type": "markdown",
   "metadata": {},
   "source": [
    "# Deutsch's Problem"
   ]
  },
  {
   "cell_type": "code",
   "execution_count": null,
   "metadata": {},
   "outputs": [],
   "source": [
    "# CB: First, Deutsch's Problem (N&C 1.4.3)"
   ]
  },
  {
   "cell_type": "code",
   "execution_count": 44,
   "metadata": {},
   "outputs": [
    {
     "data": {
      "text/latex": [
       "\n",
       "Consider a function $f$ maps a binary domain to a binary range.\n",
       "\n",
       "$$f(x) : \\{0,1\\} \\mapsto \\{0,1\\}$$\n",
       "    \n",
       "There are 4 possible functions $f$.  Two are `constant':\n",
       "\n",
       "$$f_0$$\n",
       "\n",
       "$$f_1$$\n",
       "\n",
       "Two are `balanced':\n",
       "\n",
       "$$f_I$$\n",
       "\n",
       "$$f_X$$\n",
       "\n",
       "What do they look like?\n"
      ],
      "text/plain": [
       "<IPython.core.display.Latex object>"
      ]
     },
     "metadata": {},
     "output_type": "display_data"
    }
   ],
   "source": [
    "%%latex\n",
    "\n",
    "Consider a function $f$ maps a binary domain to a binary range.\n",
    "\n",
    "$$f(x) : \\{0,1\\} \\mapsto \\{0,1\\}$$\n",
    "    \n",
    "There are 4 possible functions $f$.  Two are `constant':\n",
    "\n",
    "$$f_0$$\n",
    "\n",
    "$$f_1$$\n",
    "\n",
    "Two are `balanced':\n",
    "\n",
    "$$f_I$$\n",
    "\n",
    "$$f_X$$\n",
    "\n",
    "What do they look like?"
   ]
  },
  {
   "cell_type": "code",
   "execution_count": 52,
   "metadata": {},
   "outputs": [
    {
     "data": {
      "text/latex": [
       "\n",
       "Transitions $\\mathbf{U_f}$ of the following kind are possible to implement an $f(x)$.  $\\oplus$ is addition modulo 2. \n",
       "\n",
       "$$|x,y\\rangle \\rightarrow_{U_f} |x,y \\oplus f(x)\\rangle$$\n",
       "\n",
       "$x, y$ can be a qubit in a computational basis state,\n",
       "or a superposition like $\\frac{|0\\rangle + |1\\rangle}{\\sqrt2} = |+\\rangle$.  \n",
       "What is the result of $\\mathbf{U_f}$ on $|+0\\rangle$?\n"
      ],
      "text/plain": [
       "<IPython.core.display.Latex object>"
      ]
     },
     "metadata": {},
     "output_type": "display_data"
    }
   ],
   "source": [
    "%%latex\n",
    "\n",
    "Transitions $\\mathbf{U_f}$ of the following kind are possible to implement an $f(x)$.  \n",
    "$\\oplus$ is addition modulo 2. \n",
    "\n",
    "$$|x,y\\rangle \\rightarrow_{U_f} |x,y \\oplus f(x)\\rangle$$\n",
    "\n",
    "$x, y$ can be a qubit in a computational basis state,\n",
    "or a superposition like $\\frac{|0\\rangle + |1\\rangle}{\\sqrt2} = |+\\rangle$.  \n",
    "What is the result of $\\mathbf{U_f}$ on $|+0\\rangle$?"
   ]
  },
  {
   "cell_type": "code",
   "execution_count": 24,
   "metadata": {},
   "outputs": [
    {
     "data": {
      "text/plain": [
       "array([[ 0.70710678,  0.70710678],\n",
       "       [ 0.70710678, -0.70710678]])"
      ]
     },
     "execution_count": 24,
     "metadata": {},
     "output_type": "execute_result"
    }
   ],
   "source": [
    "# Remember Hadamard\n",
    "had = 1/np.sqrt(2) * np.array([[1,1],[1,-1]])\n",
    "had"
   ]
  },
  {
   "cell_type": "code",
   "execution_count": 55,
   "metadata": {},
   "outputs": [
    {
     "data": {
      "text/latex": [
       "\n",
       "Remember we can get $|+\\rangle$ from a Hadamard on $|0\\rangle$:\n",
       "\n",
       "$$\\mathbf{H}|0\\rangle = |+\\rangle$$\n",
       "\n",
       "Then what is state $|+0\\rangle$?\n",
       "\n",
       "$$|+0\\rangle = |+\\rangle \\otimes |0\\rangle = \n",
       "\\begin{bmatrix}\n",
       "? \\\\\n",
       "? \\\\\n",
       "\\end{bmatrix} \\otimes\n",
       "\\begin{bmatrix}\n",
       "? \\\\\n",
       "? \\\\\n",
       "\\end{bmatrix} = \n",
       "\\begin{bmatrix}\n",
       "? \\\\\n",
       "? \\\\\n",
       "? \\\\\n",
       "? \\\\\n",
       "\\end{bmatrix}$$\n"
      ],
      "text/plain": [
       "<IPython.core.display.Latex object>"
      ]
     },
     "metadata": {},
     "output_type": "display_data"
    }
   ],
   "source": [
    "%%latex\n",
    "\n",
    "Remember we can get $|+\\rangle$ from a Hadamard on $|0\\rangle$:\n",
    "\n",
    "$$\\mathbf{H}|0\\rangle = |+\\rangle$$\n",
    "\n",
    "Then what is state $|+0\\rangle$?\n",
    "\n",
    "$$|+0\\rangle = |+\\rangle \\otimes |0\\rangle = \n",
    "\\begin{bmatrix}\n",
    "? \\\\\n",
    "? \\\\\n",
    "\\end{bmatrix} \\otimes\n",
    "\\begin{bmatrix}\n",
    "? \\\\\n",
    "? \\\\\n",
    "\\end{bmatrix} = \n",
    "\\begin{bmatrix}\n",
    "? \\\\\n",
    "? \\\\\n",
    "? \\\\\n",
    "? \\\\\n",
    "\\end{bmatrix}$$"
   ]
  },
  {
   "cell_type": "code",
   "execution_count": null,
   "metadata": {},
   "outputs": [],
   "source": [
    "# And do it in numpy"
   ]
  },
  {
   "cell_type": "code",
   "execution_count": 75,
   "metadata": {},
   "outputs": [
    {
     "data": {
      "text/latex": [
       "\n",
       "Getting back to $\\mathbf{U_f}|+0\\rangle$... if $\\mathbf{U_f}$ takes $|x\\rangle |y\\rangle$ to $|x\\rangle |y \\oplus f(x)\\rangle$\n",
       "\n",
       "$$\\mathbf{U_f} |+\\rangle |0\\rangle = \n",
       "\\mathbf{U_f}\n",
       "\\begin{bmatrix}\n",
       "? \\\\\n",
       "? \\\\\n",
       "? \\\\\n",
       "? \\\\\n",
       "\\end{bmatrix} = \n",
       "\\begin{bmatrix}\n",
       "? \\\\\n",
       "? \\\\\n",
       "? \\\\\n",
       "? \\\\\n",
       "\\end{bmatrix} = \n",
       "|+\\rangle |0 \\oplus f(\\begin{bmatrix} ? \\\\ ? \\\\ \\end{bmatrix})\\rangle = \n",
       "\\frac{|0\\rangle + |1\\rangle}{\\sqrt2} |f(+)\\rangle $$\n",
       "\n",
       "The last step because $0 \\oplus 0 = 0$ and $0 \\oplus 1 = 1$, i.e. $0 \\oplus f(x) \\in \\{0,1\\} = f(x)$\n",
       "\n",
       " \n"
      ],
      "text/plain": [
       "<IPython.core.display.Latex object>"
      ]
     },
     "metadata": {},
     "output_type": "display_data"
    }
   ],
   "source": [
    "%%latex\n",
    "\n",
    "Getting back to $\\mathbf{U_f}|+0\\rangle$... if $\\mathbf{U_f}$ takes $|x\\rangle |y\\rangle$ to $|x\\rangle |y \\oplus f(x)\\rangle$\n",
    "\n",
    "$$\\mathbf{U_f} |+\\rangle |0\\rangle = \n",
    "\\mathbf{U_f}\n",
    "\\begin{bmatrix}\n",
    "? \\\\\n",
    "? \\\\\n",
    "? \\\\\n",
    "? \\\\\n",
    "\\end{bmatrix} = \n",
    "\\begin{bmatrix}\n",
    "? \\\\\n",
    "? \\\\\n",
    "? \\\\\n",
    "? \\\\\n",
    "\\end{bmatrix} = \n",
    "|+\\rangle |0 \\oplus f(\\begin{bmatrix} ? \\\\ ? \\\\ \\end{bmatrix})\\rangle = \n",
    "\\frac{|0\\rangle + |1\\rangle}{\\sqrt2} |f(+)\\rangle $$\n",
    "\n",
    "The last step because $0 \\oplus 0 = 0$ and $0 \\oplus 1 = 1$, i.e. $0 \\oplus f(x) \\in \\{0,1\\} = f(x)$\n",
    "\n",
    " "
   ]
  },
  {
   "cell_type": "code",
   "execution_count": 81,
   "metadata": {},
   "outputs": [
    {
     "data": {
      "text/latex": [
       "\n",
       "Assume that when we take $f$ over a state vector, it distributes to both *representations* of basis components.\n",
       "\n",
       "$$\n",
       "f(|\\psi\\rangle) = \n",
       "f(\\begin{bmatrix} \\alpha \\\\ \\beta \\\\ \\end{bmatrix}) =\n",
       "\\begin{bmatrix} \\alpha f(0) \\\\ \\beta f(1) \\\\ \\end{bmatrix} =\n",
       "|f(\\psi)\\rangle\n",
       "$$\n",
       "  \n",
       "Then, ignoring the factor of $\\frac{1}{\\sqrt 2}$\n",
       "  \n",
       "$$|0\\rangle + |1\\rangle|f(+)\\rangle =\n",
       "|0\\rangle + |1\\rangle \\otimes |f(0)\\rangle + |f(1)\\rangle = \n",
       "\\begin{bmatrix}\n",
       "? \\\\\n",
       "? \\\\\n",
       "\\end{bmatrix} \\otimes\n",
       "\\begin{bmatrix}\n",
       "? \\\\\n",
       "? \\\\\n",
       "\\end{bmatrix} = \n",
       "\\begin{bmatrix}\n",
       "? \\\\\n",
       "? \\\\\n",
       "? \\\\\n",
       "? \\\\\n",
       "\\end{bmatrix} =\n",
       "\n",
       "  \n",
       "$$\n",
       "\n",
       "We know that\n"
      ],
      "text/plain": [
       "<IPython.core.display.Latex object>"
      ]
     },
     "metadata": {},
     "output_type": "display_data"
    }
   ],
   "source": [
    "%%latex\n",
    "\n",
    "Assume that when we take $f$ over a state vector, it distributes to both *representations* of basis components.\n",
    "\n",
    "$$\n",
    "f(|\\psi\\rangle) = \n",
    "f(\\begin{bmatrix} \\alpha \\\\ \\beta \\\\ \\end{bmatrix}) =\n",
    "\\begin{bmatrix} \\alpha f(0) \\\\ \\beta f(1) \\\\ \\end{bmatrix} =\n",
    "|f(\\psi)\\rangle\n",
    "$$\n",
    "  \n",
    "Then, ignoring the factor of $\\frac{1}{\\sqrt 2}$\n",
    "  \n",
    "$$|0\\rangle + |1\\rangle|f(+)\\rangle =\n",
    "|0\\rangle + |1\\rangle \\otimes |f(0)\\rangle + |f(1)\\rangle = \n",
    "\\begin{bmatrix}\n",
    "? \\\\\n",
    "? \\\\\n",
    "\\end{bmatrix} \\otimes\n",
    "\\begin{bmatrix}\n",
    "? \\\\\n",
    "? \\\\\n",
    "\\end{bmatrix} = \n",
    "\\begin{bmatrix}\n",
    "? \\\\\n",
    "? \\\\\n",
    "? \\\\\n",
    "? \\\\\n",
    "\\end{bmatrix} =\n",
    "\n",
    "  \n",
    "$$\n",
    "\n",
    "We know that"
   ]
  },
  {
   "cell_type": "code",
   "execution_count": null,
   "metadata": {},
   "outputs": [],
   "source": []
  },
  {
   "cell_type": "markdown",
   "metadata": {},
   "source": [
    "# Deutsch-Jozsa Algorithm"
   ]
  },
  {
   "cell_type": "code",
   "execution_count": null,
   "metadata": {},
   "outputs": [],
   "source": [
    "# CB: (N&C 1.4.4)"
   ]
  }
 ],
 "metadata": {
  "kernelspec": {
   "display_name": "Python 3",
   "language": "python",
   "name": "python3"
  },
  "language_info": {
   "codemirror_mode": {
    "name": "ipython",
    "version": 3
   },
   "file_extension": ".py",
   "mimetype": "text/x-python",
   "name": "python",
   "nbconvert_exporter": "python",
   "pygments_lexer": "ipython3",
   "version": "3.7.7"
  }
 },
 "nbformat": 4,
 "nbformat_minor": 4
}
