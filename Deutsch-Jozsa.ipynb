{
 "cells": [
  {
   "cell_type": "code",
   "execution_count": 2,
   "metadata": {},
   "outputs": [],
   "source": [
    "# CB: The Deutsch-Jozsa algorithm is a very basic toy circuit.  (N&C 1.4.2-1.4.4)"
   ]
  },
  {
   "cell_type": "code",
   "execution_count": 23,
   "metadata": {},
   "outputs": [],
   "source": [
    "import numpy as np"
   ]
  },
  {
   "cell_type": "markdown",
   "metadata": {},
   "source": [
    "# Deutsch's Problem"
   ]
  },
  {
   "cell_type": "code",
   "execution_count": null,
   "metadata": {},
   "outputs": [],
   "source": [
    "# CB: First, Deutsch's Problem (N&C 1.4.3)"
   ]
  },
  {
   "cell_type": "code",
   "execution_count": 6,
   "metadata": {},
   "outputs": [
    {
     "data": {
      "text/latex": [
       "\n",
       "A function $f$ maps a binary domain to a binary range.\n",
       "\n",
       "$$f(x) : \\{0,1\\} \\mapsto \\{0,1\\}$$\n"
      ],
      "text/plain": [
       "<IPython.core.display.Latex object>"
      ]
     },
     "metadata": {},
     "output_type": "display_data"
    }
   ],
   "source": [
    "%%latex\n",
    "\n",
    "A function $f$ maps a binary domain to a binary range.\n",
    "\n",
    "$$f(x) : \\{0,1\\} \\mapsto \\{0,1\\}$$"
   ]
  },
  {
   "cell_type": "code",
   "execution_count": 21,
   "metadata": {},
   "outputs": [
    {
     "data": {
      "text/latex": [
       "\n",
       "Transitions $U_f$ of the following kind are possible.  $\\oplus$ is addition modulo 2. \n",
       "\n",
       "$$|x,y\\rangle \\rightarrow_{U_f} |x,y \\oplus f(x)\\rangle$$\n",
       "\n",
       "$x, y$ can be a qubit in a computational basis state,\n",
       "or a superposition like $\\frac{|0\\rangle + |1\\rangle}{\\sqrt2} = |+\\rangle$.  \n",
       "What is the result of $U_f$ on $|+0\\rangle$?\n"
      ],
      "text/plain": [
       "<IPython.core.display.Latex object>"
      ]
     },
     "metadata": {},
     "output_type": "display_data"
    }
   ],
   "source": [
    "%%latex\n",
    "\n",
    "Transitions $U_f$ of the following kind are possible.  $\\oplus$ is addition modulo 2. \n",
    "\n",
    "$$|x,y\\rangle \\rightarrow_{U_f} |x,y \\oplus f(x)\\rangle$$\n",
    "\n",
    "$x, y$ can be a qubit in a computational basis state,\n",
    "or a superposition like $\\frac{|0\\rangle + |1\\rangle}{\\sqrt2} = |+\\rangle$.  \n",
    "What is the result of $U_f$ on $|+0\\rangle$?"
   ]
  },
  {
   "cell_type": "code",
   "execution_count": 24,
   "metadata": {},
   "outputs": [
    {
     "data": {
      "text/plain": [
       "array([[ 0.70710678,  0.70710678],\n",
       "       [ 0.70710678, -0.70710678]])"
      ]
     },
     "execution_count": 24,
     "metadata": {},
     "output_type": "execute_result"
    }
   ],
   "source": [
    "# Remember Hadamard\n",
    "had = 1/np.sqrt(2) * np.array([[1,1],[1,-1]])\n",
    "had"
   ]
  },
  {
   "cell_type": "code",
   "execution_count": 32,
   "metadata": {},
   "outputs": [
    {
     "data": {
      "text/latex": [
       "\n",
       "Remember we can get $|+\\rangle$ from a Hadamard on $|0\\rangle$:\n",
       "\n",
       "$$\\mathbf{H}|0\\rangle = |+\\rangle$$\n",
       "\n",
       "Then what is state $|+0\\rangle$?\n",
       "\n",
       "$$|+0\\rangle = |+\\rangle \\otimes |0\\rangle = \n",
       "\\begin{bmatrix}\n",
       "?\n",
       "\\end{bmatrix} \\otimes\n",
       "\\begin{bmatrix}\n",
       "?\n",
       "\\end{bmatrix}$$\n"
      ],
      "text/plain": [
       "<IPython.core.display.Latex object>"
      ]
     },
     "metadata": {},
     "output_type": "display_data"
    }
   ],
   "source": [
    "%%latex\n",
    "\n",
    "Remember we can get $|+\\rangle$ from a Hadamard on $|0\\rangle$:\n",
    "\n",
    "$$\\mathbf{H}|0\\rangle = |+\\rangle$$\n",
    "\n",
    "Then what is state $|+0\\rangle$?\n",
    "\n",
    "$$|+0\\rangle = |+\\rangle \\otimes |0\\rangle = \n",
    "\\begin{bmatrix}\n",
    "?\n",
    "\\end{bmatrix} \\otimes\n",
    "\\begin{bmatrix}\n",
    "?\n",
    "\\end{bmatrix}$$"
   ]
  },
  {
   "cell_type": "code",
   "execution_count": null,
   "metadata": {},
   "outputs": [],
   "source": [
    "# And do it in numpy"
   ]
  },
  {
   "cell_type": "code",
   "execution_count": null,
   "metadata": {},
   "outputs": [],
   "source": []
  },
  {
   "cell_type": "code",
   "execution_count": null,
   "metadata": {},
   "outputs": [],
   "source": []
  },
  {
   "cell_type": "code",
   "execution_count": null,
   "metadata": {},
   "outputs": [],
   "source": []
  },
  {
   "cell_type": "markdown",
   "metadata": {},
   "source": [
    "# Deutsch-Jozsa Algorithm"
   ]
  },
  {
   "cell_type": "code",
   "execution_count": null,
   "metadata": {},
   "outputs": [],
   "source": [
    "# CB: (N&C 1.4.4)"
   ]
  }
 ],
 "metadata": {
  "kernelspec": {
   "display_name": "Python 3",
   "language": "python",
   "name": "python3"
  },
  "language_info": {
   "codemirror_mode": {
    "name": "ipython",
    "version": 3
   },
   "file_extension": ".py",
   "mimetype": "text/x-python",
   "name": "python",
   "nbconvert_exporter": "python",
   "pygments_lexer": "ipython3",
   "version": "3.7.7"
  }
 },
 "nbformat": 4,
 "nbformat_minor": 4
}
