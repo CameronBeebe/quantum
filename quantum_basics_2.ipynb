{
 "cells": [
  {
   "cell_type": "code",
   "execution_count": null,
   "metadata": {},
   "outputs": [],
   "source": [
    "# CB: Second notebook going over basics of eigenvectors and eigenvalues.\n",
    "# CB: This follows section 2.1.5 in N&C."
   ]
  },
  {
   "cell_type": "markdown",
   "metadata": {},
   "source": [
    "## Eigenstuff"
   ]
  },
  {
   "cell_type": "code",
   "execution_count": 27,
   "metadata": {},
   "outputs": [
    {
     "data": {
      "text/latex": [
       "\n",
       "Eigenvector $v$ and eigenvalue $\\lambda$ of operator $\\mathbf{A}$:\n",
       "    \n",
       "$$\\mathbf{A}(v) = \\lambda v$$\n",
       "\n",
       "\n",
       "Nielsen and Chuang Dirac/quantum computing notation where eigenvalue matches eigenvector:\n",
       "\n",
       "$$\\mathbf{A}|v\\rangle = v|v\\rangle$$\n"
      ],
      "text/plain": [
       "<IPython.core.display.Latex object>"
      ]
     },
     "metadata": {},
     "output_type": "display_data"
    }
   ],
   "source": [
    "%%latex\n",
    "\n",
    "Eigenvector $v$ and eigenvalue $\\lambda$ of operator $\\mathbf{A}$:\n",
    "    \n",
    "$$\\mathbf{A}(v) = \\lambda v$$\n",
    "\n",
    "\n",
    "Nielsen and Chuang Dirac/quantum computing notation where eigenvalue matches eigenvector:\n",
    "\n",
    "$$\\mathbf{A}|v\\rangle = v|v\\rangle$$"
   ]
  },
  {
   "cell_type": "code",
   "execution_count": 17,
   "metadata": {},
   "outputs": [
    {
     "data": {
      "text/latex": [
       "\n",
       "Characteristic function to find eigenvalues.\n",
       "\n",
       "$$c(\\lambda) \\equiv det|\\mathbf{A} - \\lambda\\mathbf{I}|$$\n"
      ],
      "text/plain": [
       "<IPython.core.display.Latex object>"
      ]
     },
     "metadata": {},
     "output_type": "display_data"
    }
   ],
   "source": [
    "%%latex\n",
    "\n",
    "Characteristic function to find eigenvalues.\n",
    "\n",
    "$$c(\\lambda) \\equiv det|\\mathbf{A} - \\lambda\\mathbf{I}|$$"
   ]
  },
  {
   "cell_type": "code",
   "execution_count": 18,
   "metadata": {},
   "outputs": [
    {
     "data": {
      "text/latex": [
       "\n",
       "2 by 2 determinant:\n",
       "    \n",
       "$$det\\left(\n",
       "\\begin{bmatrix}\n",
       "a & b \\\\\n",
       "c & d \\\\\n",
       "\\end{bmatrix} \n",
       "\\right) =\n",
       "ad - cb\n",
       "\n",
       "$$\n"
      ],
      "text/plain": [
       "<IPython.core.display.Latex object>"
      ]
     },
     "metadata": {},
     "output_type": "display_data"
    }
   ],
   "source": [
    "%%latex\n",
    "\n",
    "2 by 2 determinant:\n",
    "    \n",
    "$$det\\left(\n",
    "\\begin{bmatrix}\n",
    "a & b \\\\\n",
    "c & d \\\\\n",
    "\\end{bmatrix} \n",
    "\\right) =\n",
    "ad - cb\n",
    "\n",
    "$$\n"
   ]
  },
  {
   "cell_type": "code",
   "execution_count": 25,
   "metadata": {},
   "outputs": [
    {
     "data": {
      "text/latex": [
       "\n",
       "Calculate $\\mathbf{A} - \\lambda\\mathbf{I}$\n",
       "\n",
       "$$\\mathbf{A} - \\lambda\\mathbf{I} = \n",
       "\\begin{bmatrix}\n",
       "a & b \\\\\n",
       "c & d \\\\\n",
       "\\end{bmatrix}  - \n",
       "\\lambda \\begin{bmatrix}\n",
       "1 & 0 \\\\\n",
       "0 & 1 \\\\\n",
       "\\end{bmatrix} =\n",
       "$$\n"
      ],
      "text/plain": [
       "<IPython.core.display.Latex object>"
      ]
     },
     "metadata": {},
     "output_type": "display_data"
    }
   ],
   "source": [
    "%%latex\n",
    "\n",
    "Calculate $\\mathbf{A} - \\lambda\\mathbf{I}$\n",
    "\n",
    "$$\\mathbf{A} - \\lambda\\mathbf{I} = \n",
    "\\begin{bmatrix}\n",
    "a & b \\\\\n",
    "c & d \\\\\n",
    "\\end{bmatrix}  - \n",
    "\\lambda \\begin{bmatrix}\n",
    "1 & 0 \\\\\n",
    "0 & 1 \\\\\n",
    "\\end{bmatrix} =\n",
    "$$"
   ]
  },
  {
   "cell_type": "code",
   "execution_count": null,
   "metadata": {},
   "outputs": [],
   "source": [
    "%%latex\n",
    "\n"
   ]
  },
  {
   "cell_type": "code",
   "execution_count": null,
   "metadata": {},
   "outputs": [],
   "source": [
    "%%latex\n",
    "\n",
    "If eigenvectors of a matrix (operator, linear transformation) are unchanged"
   ]
  }
 ],
 "metadata": {
  "kernelspec": {
   "display_name": "Python 3",
   "language": "python",
   "name": "python3"
  },
  "language_info": {
   "codemirror_mode": {
    "name": "ipython",
    "version": 3
   },
   "file_extension": ".py",
   "mimetype": "text/x-python",
   "name": "python",
   "nbconvert_exporter": "python",
   "pygments_lexer": "ipython3",
   "version": "3.7.7"
  }
 },
 "nbformat": 4,
 "nbformat_minor": 4
}
