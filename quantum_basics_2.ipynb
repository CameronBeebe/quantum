{
 "cells": [
  {
   "cell_type": "code",
   "execution_count": null,
   "metadata": {},
   "outputs": [],
   "source": [
    "# CB: Second notebook going over basics of eigenvectors and eigenvalues.\n",
    "# CB: This follows section 2.1.5 in N&C."
   ]
  },
  {
   "cell_type": "markdown",
   "metadata": {},
   "source": [
    "## Eigenstuff"
   ]
  },
  {
   "cell_type": "code",
   "execution_count": null,
   "metadata": {},
   "outputs": [],
   "source": [
    "%%latex\n",
    "\n",
    "Eigenvector $v$ and eigenvalue $\\lambda$ of operator $\\mathbf{A}$:\n",
    "    \n",
    "$$\\mathbf{A}(v) = \\lambda v$$\n",
    "\n",
    "The vector's direction, under operator's action, is unchanged.  The scale/magnitude is the eigenvalue.\n",
    "\n",
    "Nielsen and Chuang Dirac/quantum computing notation where eigenvalue matches eigenvector:\n",
    "\n",
    "$$\\mathbf{A}|v\\rangle = v|v\\rangle$$\n",
    "\n",
    "Since, in computational basis, entries of 1 multiplied by the eigenvalue $\\lambda_i$ will just be the eigenvalue, $\\lambda_i$.\n",
    "\n"
   ]
  },
  {
   "cell_type": "code",
   "execution_count": null,
   "metadata": {},
   "outputs": [],
   "source": [
    "%%latex\n",
    "\n",
    "Characteristic function to find eigenvalues.\n",
    "\n",
    "$$c(\\lambda) \\equiv det|\\mathbf{A} - \\lambda\\mathbf{I}|$$"
   ]
  },
  {
   "cell_type": "code",
   "execution_count": null,
   "metadata": {},
   "outputs": [],
   "source": [
    "%%latex\n",
    "\n",
    "Example of 2 by 2 determinant:\n",
    "    \n",
    "$$det\\left(\n",
    "\\begin{bmatrix}\n",
    "a & b \\\\\n",
    "c & d \\\\\n",
    "\\end{bmatrix} \n",
    "\\right) =\n",
    "ad - cb\n",
    "\n",
    "$$\n"
   ]
  },
  {
   "cell_type": "code",
   "execution_count": null,
   "metadata": {},
   "outputs": [],
   "source": [
    "%%latex\n",
    "\n",
    "Calculate $\\mathbf{A} - \\lambda\\mathbf{I}$\n",
    "\n",
    "$$\\mathbf{A} - \\lambda\\mathbf{I} = \n",
    "\\begin{bmatrix}\n",
    "a & b \\\\\n",
    "c & d \\\\\n",
    "\\end{bmatrix}  - \n",
    "\\lambda \\begin{bmatrix}\n",
    "1 & 0 \\\\\n",
    "0 & 1 \\\\\n",
    "\\end{bmatrix} =\n",
    "\\begin{bmatrix}\n",
    "a - \\lambda & b \\\\\n",
    "c & d - \\lambda \\\\\n",
    "\\end{bmatrix} = \n",
    "\\mathbf{A_\\lambda}\n",
    "$$"
   ]
  },
  {
   "cell_type": "code",
   "execution_count": null,
   "metadata": {},
   "outputs": [],
   "source": [
    "%%latex\n",
    "\n",
    "Calculate $det(\\mathbf{A_\\lambda})$\n",
    "\n",
    "$$det(\\mathbf{A_\\lambda}) = ?$$"
   ]
  },
  {
   "cell_type": "code",
   "execution_count": null,
   "metadata": {},
   "outputs": [],
   "source": [
    "%%latex\n",
    "\n",
    "\n",
    "\n",
    "$$c(\\lambda) = 0$$\n",
    "\n",
    "Will enable solving to find eigenvalues.  That is, the determinant "
   ]
  },
  {
   "cell_type": "code",
   "execution_count": null,
   "metadata": {},
   "outputs": [],
   "source": [
    "%%latex\n",
    "\n",
    "If eigenvectors of a matrix (operator, linear transformation) are unchanged, \n",
    "the eigenvectors are found by setting the matrix times unknown vector $v$ equal to zero vector.\n",
    "\n",
    "$$\\mathbf{A_\\lambda} v = \\mathbf{0}$$"
   ]
  },
  {
   "cell_type": "code",
   "execution_count": null,
   "metadata": {},
   "outputs": [],
   "source": []
  }
 ],
 "metadata": {
  "kernelspec": {
   "display_name": "Python 3",
   "language": "python",
   "name": "python3"
  },
  "language_info": {
   "codemirror_mode": {
    "name": "ipython",
    "version": 3
   },
   "file_extension": ".py",
   "mimetype": "text/x-python",
   "name": "python",
   "nbconvert_exporter": "python",
   "pygments_lexer": "ipython3",
   "version": "3.7.7"
  }
 },
 "nbformat": 4,
 "nbformat_minor": 4
}
