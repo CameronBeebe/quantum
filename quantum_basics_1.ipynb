{
 "cells": [
  {
   "cell_type": "code",
   "execution_count": 1,
   "metadata": {},
   "outputs": [],
   "source": [
    "# CB: Some qubit basics representated in LaTeX and numpy. (You need to learn LaTeX.)\n",
    "# CB: This is NOT comprehensive in any way.  Just a starting place.\n",
    "# CB: The Nielsen and Chuang book is the standard textbook to reference.\n",
    "# CB: Note: If writing Dirac notation in a TeX document, please use the braket package!\n",
    "import numpy as np"
   ]
  },
  {
   "cell_type": "markdown",
   "metadata": {},
   "source": [
    "## LaTeX qubits"
   ]
  },
  {
   "cell_type": "code",
   "execution_count": 3,
   "metadata": {},
   "outputs": [
    {
     "data": {
      "text/latex": [
       "These are the computational basis state vectors of \n",
       "a two dimensional vector space $V = \\mathbf{C}^2$, the space where a qubit lives.\n",
       "$$|0\\rangle = \\begin{bmatrix}\n",
       "1 \\\\\n",
       "0 \\\\\n",
       "\\end{bmatrix}$$\n",
       "\n",
       "$$|1\\rangle = \\begin{bmatrix}\n",
       "0 \\\\\n",
       "1 \\\\\n",
       "\\end{bmatrix}$$\n"
      ],
      "text/plain": [
       "<IPython.core.display.Latex object>"
      ]
     },
     "metadata": {},
     "output_type": "display_data"
    }
   ],
   "source": [
    "%%latex\n",
    "These are the computational basis state vectors of \n",
    "a two dimensional vector space $V = \\mathbf{C}^2$, the space where a qubit lives.\n",
    "$$|0\\rangle = \\begin{bmatrix}\n",
    "1 \\\\\n",
    "0 \\\\\n",
    "\\end{bmatrix}$$\n",
    "\n",
    "$$|1\\rangle = \\begin{bmatrix}\n",
    "0 \\\\\n",
    "1 \\\\\n",
    "\\end{bmatrix}$$"
   ]
  },
  {
   "cell_type": "code",
   "execution_count": 4,
   "metadata": {},
   "outputs": [
    {
     "data": {
      "text/latex": [
       "\n",
       "The state of a qubit, written in the computational basis, with complex coefficients $\\alpha$ and $\\beta$.\n",
       "\n",
       "$$|\\psi\\rangle = \\alpha|0\\rangle + \\beta|1\\rangle = \\begin{bmatrix}\n",
       "\\alpha \\\\\n",
       "0 \\\\\n",
       "\\end{bmatrix} + \\begin{bmatrix}\n",
       "0 \\\\\n",
       "\\beta \\\\\n",
       "\\end{bmatrix} = \\begin{bmatrix}\n",
       "\\alpha \\\\\n",
       "\\beta \\\\\n",
       "\\end{bmatrix}$$\n"
      ],
      "text/plain": [
       "<IPython.core.display.Latex object>"
      ]
     },
     "metadata": {},
     "output_type": "display_data"
    }
   ],
   "source": [
    "%%latex\n",
    "\n",
    "The state of a qubit, written in the computational basis, with complex coefficients $\\alpha$ and $\\beta$.\n",
    "\n",
    "$$|\\psi\\rangle = \\alpha|0\\rangle + \\beta|1\\rangle = \\begin{bmatrix}\n",
    "\\alpha \\\\\n",
    "0 \\\\\n",
    "\\end{bmatrix} + \\begin{bmatrix}\n",
    "0 \\\\\n",
    "\\beta \\\\\n",
    "\\end{bmatrix} = \\begin{bmatrix}\n",
    "\\alpha \\\\\n",
    "\\beta \\\\\n",
    "\\end{bmatrix}$$"
   ]
  },
  {
   "cell_type": "code",
   "execution_count": 5,
   "metadata": {},
   "outputs": [
    {
     "data": {
      "text/latex": [
       "\n",
       "Conjugate transpose of state vector\n",
       "$$\\langle \\psi | = \\alpha^*\\langle 0| + \\beta^*\\langle 1| = \\begin{bmatrix}\n",
       "\\alpha^* & 0\n",
       "\\end{bmatrix} + \\begin{bmatrix}\n",
       "0 & \\beta^*\n",
       "\\end{bmatrix} = \\begin{bmatrix}\n",
       "\\alpha^* & \\beta^*\n",
       "\\end{bmatrix}$$\n"
      ],
      "text/plain": [
       "<IPython.core.display.Latex object>"
      ]
     },
     "metadata": {},
     "output_type": "display_data"
    }
   ],
   "source": [
    "%%latex\n",
    "\n",
    "Conjugate transpose of state vector\n",
    "$$\\langle \\psi | = \\alpha^*\\langle 0| + \\beta^*\\langle 1| = \\begin{bmatrix}\n",
    "\\alpha^* & 0\n",
    "\\end{bmatrix} + \\begin{bmatrix}\n",
    "0 & \\beta^*\n",
    "\\end{bmatrix} = \\begin{bmatrix}\n",
    "\\alpha^* & \\beta^*\n",
    "\\end{bmatrix}$$"
   ]
  },
  {
   "cell_type": "code",
   "execution_count": 7,
   "metadata": {},
   "outputs": [
    {
     "data": {
      "text/latex": [
       "\n",
       "Tensor product $\\otimes$.  (See N&C p. 74.)  AKA Kronecker product.\n",
       "\n",
       "Each element in $\\mathbf{A}$ times $\\mathbf{B}$, Ex: 2 by 1 kron 2 by 1 = 4 by 1.  \n",
       "    \n",
       "$$|0\\rangle \\otimes |0\\rangle = |0\\rangle|0\\rangle = |00\\rangle = \\begin{bmatrix}\n",
       "1 \\\\\n",
       "0 \\\\\n",
       "\\end{bmatrix} \\otimes \\begin{bmatrix}\n",
       "1 \\\\\n",
       "0 \\\\\n",
       "\\end{bmatrix} = \\begin{bmatrix}\n",
       "1 \\\\\n",
       "0 \\\\\n",
       "0 \\\\\n",
       "0 \\\\\n",
       "\\end{bmatrix}$$\n",
       "\n",
       "Exercise: work out $|1\\rangle \\otimes |1\\rangle$\n"
      ],
      "text/plain": [
       "<IPython.core.display.Latex object>"
      ]
     },
     "metadata": {},
     "output_type": "display_data"
    }
   ],
   "source": [
    "%%latex\n",
    "\n",
    "Tensor product $\\otimes$.  (See N&C p. 74.)  AKA Kronecker product.\n",
    "\n",
    "Each element in $\\mathbf{A}$ times $\\mathbf{B}$, Ex: 2 by 1 kron 2 by 1 = 4 by 1.  \n",
    "    \n",
    "$$|0\\rangle \\otimes |0\\rangle = |0\\rangle|0\\rangle = |00\\rangle = \\begin{bmatrix}\n",
    "1 \\\\\n",
    "0 \\\\\n",
    "\\end{bmatrix} \\otimes \\begin{bmatrix}\n",
    "1 \\\\\n",
    "0 \\\\\n",
    "\\end{bmatrix} = \\begin{bmatrix}\n",
    "1 \\\\\n",
    "0 \\\\\n",
    "0 \\\\\n",
    "0 \\\\\n",
    "\\end{bmatrix}$$\n",
    "\n",
    "Exercise: work out $|1\\rangle \\otimes |1\\rangle$\n"
   ]
  },
  {
   "cell_type": "code",
   "execution_count": 9,
   "metadata": {},
   "outputs": [
    {
     "data": {
      "text/latex": [
       "Another example:\n",
       "    \n",
       "$$|\\psi\\rangle \\otimes |\\phi\\rangle = |\\psi\\rangle|\\phi\\rangle = \\begin{bmatrix}\n",
       "\\alpha \\\\\n",
       "\\beta \\\\\n",
       "\\end{bmatrix} \\otimes \n",
       "\\begin{bmatrix}\n",
       "\\gamma \\\\\n",
       "\\delta \\\\\n",
       "\\end{bmatrix} = \n",
       "\\begin{bmatrix}\n",
       "\\alpha \\begin{bmatrix}\n",
       "\\gamma \\\\\n",
       "\\delta \\\\\n",
       "\\end{bmatrix} \\\\\n",
       "\\beta \\begin{bmatrix}\n",
       "\\gamma \\\\\n",
       "\\delta \\\\\n",
       "\\end{bmatrix}\n",
       "\n",
       "\\end{bmatrix}$$\n"
      ],
      "text/plain": [
       "<IPython.core.display.Latex object>"
      ]
     },
     "metadata": {},
     "output_type": "display_data"
    }
   ],
   "source": [
    "%%latex\n",
    "Another example:\n",
    "    \n",
    "$$|\\psi\\rangle \\otimes |\\phi\\rangle = |\\psi\\rangle|\\phi\\rangle = \\begin{bmatrix}\n",
    "\\alpha \\\\\n",
    "\\beta \\\\\n",
    "\\end{bmatrix} \\otimes \n",
    "\\begin{bmatrix}\n",
    "\\gamma \\\\\n",
    "\\delta \\\\\n",
    "\\end{bmatrix} = \n",
    "\\begin{bmatrix}\n",
    "\\alpha \\begin{bmatrix}\n",
    "\\gamma \\\\\n",
    "\\delta \\\\\n",
    "\\end{bmatrix} \\\\\n",
    "\\beta \\begin{bmatrix}\n",
    "\\gamma \\\\\n",
    "\\delta \\\\\n",
    "\\end{bmatrix}\n",
    "\n",
    "\\end{bmatrix}$$"
   ]
  },
  {
   "cell_type": "code",
   "execution_count": 10,
   "metadata": {},
   "outputs": [
    {
     "data": {
      "text/latex": [
       "\n",
       "The inner product is a number, Ex: 1 by 2 matmul 2 by 1 = 1 by 1.\n",
       "\n",
       "Special case inner product of state vector with its own conjugate transpose.\n",
       "\n",
       "$$\\langle \\psi | \\psi \\rangle = \\begin{bmatrix}\n",
       "\\alpha^* & \\beta^*\n",
       "\\end{bmatrix} \\cdot \\begin{bmatrix}\n",
       "\\alpha \\\\\n",
       "\\beta \\\\\n",
       "\\end{bmatrix} = \\alpha^*\\alpha + \\beta^*\\beta$$\n",
       "\n",
       "General case with another $|\\phi\\rangle = \\gamma|0\\rangle + \\delta|1\\rangle$ \n",
       "\n",
       "$$\\langle \\phi | \\psi \\rangle = \\begin{bmatrix}\n",
       "\\gamma^* & \\delta^*\n",
       "\\end{bmatrix} \\cdot \\begin{bmatrix}\n",
       "\\alpha \\\\\n",
       "\\beta \\\\\n",
       "\\end{bmatrix} = \\gamma^*\\alpha + \\delta^*\\beta$$\n",
       "\n",
       "(See N&C section 2.1.4).\n"
      ],
      "text/plain": [
       "<IPython.core.display.Latex object>"
      ]
     },
     "metadata": {},
     "output_type": "display_data"
    }
   ],
   "source": [
    "%%latex\n",
    "\n",
    "The inner product is a number, Ex: 1 by 2 matmul 2 by 1 = 1 by 1.\n",
    "\n",
    "Special case inner product of state vector with its own conjugate transpose.\n",
    "\n",
    "$$\\langle \\psi | \\psi \\rangle = \\begin{bmatrix}\n",
    "\\alpha^* & \\beta^*\n",
    "\\end{bmatrix} \\cdot \\begin{bmatrix}\n",
    "\\alpha \\\\\n",
    "\\beta \\\\\n",
    "\\end{bmatrix} = \\alpha^*\\alpha + \\beta^*\\beta$$\n",
    "\n",
    "General case with another $|\\phi\\rangle = \\gamma|0\\rangle + \\delta|1\\rangle$ \n",
    "\n",
    "$$\\langle \\phi | \\psi \\rangle = \\begin{bmatrix}\n",
    "\\gamma^* & \\delta^*\n",
    "\\end{bmatrix} \\cdot \\begin{bmatrix}\n",
    "\\alpha \\\\\n",
    "\\beta \\\\\n",
    "\\end{bmatrix} = \\gamma^*\\alpha + \\delta^*\\beta$$\n",
    "\n",
    "(See N&C section 2.1.4).\n"
   ]
  },
  {
   "cell_type": "code",
   "execution_count": 11,
   "metadata": {},
   "outputs": [
    {
     "data": {
      "text/latex": [
       "\n",
       "The outer product is a matrix (operator).  Ex: 2 by 1 matmul 1 by 2 = 2 by 2.\n",
       "$$|\\psi \\rangle \\langle \\psi | = \\begin{bmatrix}\n",
       "\\alpha \\\\\n",
       "\\beta \\\\\n",
       "\\end{bmatrix} \\cdot \\begin{bmatrix}\n",
       "\\alpha^* & \\beta^*\n",
       "\\end{bmatrix} = \\begin{bmatrix}\n",
       "\\alpha\\alpha^* & \\alpha\\beta^* \\\\\n",
       "\\beta\\alpha^* & \\beta\\beta^* \\\\ \\end{bmatrix}$$\n"
      ],
      "text/plain": [
       "<IPython.core.display.Latex object>"
      ]
     },
     "metadata": {},
     "output_type": "display_data"
    }
   ],
   "source": [
    "%%latex \n",
    "\n",
    "The outer product is a matrix (operator).  Ex: 2 by 1 matmul 1 by 2 = 2 by 2.\n",
    "$$|\\psi \\rangle \\langle \\psi | = \\begin{bmatrix}\n",
    "\\alpha \\\\\n",
    "\\beta \\\\\n",
    "\\end{bmatrix} \\cdot \\begin{bmatrix}\n",
    "\\alpha^* & \\beta^*\n",
    "\\end{bmatrix} = \\begin{bmatrix}\n",
    "\\alpha\\alpha^* & \\alpha\\beta^* \\\\\n",
    "\\beta\\alpha^* & \\beta\\beta^* \\\\ \\end{bmatrix}$$"
   ]
  },
  {
   "cell_type": "code",
   "execution_count": 12,
   "metadata": {},
   "outputs": [
    {
     "data": {
      "text/latex": [
       "\n",
       "The Born rule relates amplitude (coefficients) to measurement probabilities.\n",
       "$$|\\alpha|^2 + |\\beta|^2 = 1$$\n"
      ],
      "text/plain": [
       "<IPython.core.display.Latex object>"
      ]
     },
     "metadata": {},
     "output_type": "display_data"
    }
   ],
   "source": [
    "%%latex\n",
    "\n",
    "The Born rule relates amplitude (coefficients) to measurement probabilities.\n",
    "$$|\\alpha|^2 + |\\beta|^2 = 1$$"
   ]
  },
  {
   "cell_type": "code",
   "execution_count": 13,
   "metadata": {},
   "outputs": [
    {
     "data": {
      "text/latex": [
       "\n",
       "State preparation: Assume we can initialize all qubits to $|0\\rangle$\n"
      ],
      "text/plain": [
       "<IPython.core.display.Latex object>"
      ]
     },
     "metadata": {},
     "output_type": "display_data"
    }
   ],
   "source": [
    "%%latex\n",
    "\n",
    "State preparation: Assume we can initialize all qubits to $|0\\rangle$"
   ]
  },
  {
   "cell_type": "code",
   "execution_count": 14,
   "metadata": {},
   "outputs": [
    {
     "data": {
      "text/latex": [
       "\n",
       "Quantum gates (operators) are represented by matrices.  E.g. Single qubit Hadamard gate $\\mathbf{H}$\n",
       "\n",
       "$$\\mathbf{H} = \\frac{1}{\\sqrt{2}} \\begin{bmatrix}\n",
       "1 & 1 \\\\\n",
       "1 & -1 \\\\\n",
       "\\end{bmatrix}$$\n",
       "\n",
       "Operation on basis states:\n",
       "\n",
       "$$\\mathbf{H}|0\\rangle = \\frac{|0\\rangle + |1\\rangle}{\\sqrt{2}}$$\n",
       "\n",
       "Exercise: Work out $\\mathbf{H}|1\\rangle$.\n"
      ],
      "text/plain": [
       "<IPython.core.display.Latex object>"
      ]
     },
     "metadata": {},
     "output_type": "display_data"
    }
   ],
   "source": [
    "%%latex\n",
    "\n",
    "Quantum gates (operators) are represented by matrices.  E.g. Single qubit Hadamard gate $\\mathbf{H}$\n",
    "\n",
    "$$\\mathbf{H} = \\frac{1}{\\sqrt{2}} \\begin{bmatrix}\n",
    "1 & 1 \\\\\n",
    "1 & -1 \\\\\n",
    "\\end{bmatrix}$$\n",
    "\n",
    "Operation on basis states:\n",
    "\n",
    "$$\\mathbf{H}|0\\rangle = \\frac{|0\\rangle + |1\\rangle}{\\sqrt{2}}$$\n",
    "\n",
    "Exercise: Work out $\\mathbf{H}|1\\rangle$."
   ]
  },
  {
   "cell_type": "code",
   "execution_count": 15,
   "metadata": {},
   "outputs": [
    {
     "data": {
      "text/latex": [
       "\n",
       "Controlled-NOT gate $\\mathbf{CNOT}$ \n",
       "\n",
       "$$\\mathbf{CNOT} = \\begin{bmatrix}\n",
       "1 & 0 & 0 & 0 \\\\\n",
       "0 & 1 & 0 & 0 \\\\\n",
       "0 & 0 & 0 & 1 \\\\\n",
       "0 & 0 & 1 & 0 \\\\\n",
       "\\end{bmatrix}$$\n"
      ],
      "text/plain": [
       "<IPython.core.display.Latex object>"
      ]
     },
     "metadata": {},
     "output_type": "display_data"
    }
   ],
   "source": [
    "%%latex\n",
    "\n",
    "Controlled-NOT gate $\\mathbf{CNOT}$ \n",
    "\n",
    "$$\\mathbf{CNOT} = \\begin{bmatrix}\n",
    "1 & 0 & 0 & 0 \\\\\n",
    "0 & 1 & 0 & 0 \\\\\n",
    "0 & 0 & 0 & 1 \\\\\n",
    "0 & 0 & 1 & 0 \\\\\n",
    "\\end{bmatrix}$$"
   ]
  },
  {
   "cell_type": "markdown",
   "metadata": {},
   "source": [
    "## Numpy"
   ]
  },
  {
   "cell_type": "code",
   "execution_count": 16,
   "metadata": {},
   "outputs": [
    {
     "data": {
      "text/plain": [
       "(array([[1],\n",
       "        [0]]),\n",
       " array([[0],\n",
       "        [1]]))"
      ]
     },
     "execution_count": 16,
     "metadata": {},
     "output_type": "execute_result"
    }
   ],
   "source": [
    "ket_0 = np.array([[1],[0]])\n",
    "ket_1 = np.array([[0],[1]])\n",
    "ket_0, ket_1"
   ]
  },
  {
   "cell_type": "code",
   "execution_count": 17,
   "metadata": {},
   "outputs": [
    {
     "data": {
      "text/plain": [
       "array([[ 0.70710678,  0.70710678],\n",
       "       [ 0.70710678, -0.70710678]])"
      ]
     },
     "execution_count": 17,
     "metadata": {},
     "output_type": "execute_result"
    }
   ],
   "source": [
    "had = 1/np.sqrt(2) * np.array([[1,1],[1,-1]])\n",
    "had"
   ]
  },
  {
   "cell_type": "code",
   "execution_count": 18,
   "metadata": {},
   "outputs": [
    {
     "data": {
      "text/plain": [
       "(array([[0.70710678],\n",
       "        [0.70710678]]),\n",
       " array([[ 0.70710678],\n",
       "        [-0.70710678]]))"
      ]
     },
     "execution_count": 18,
     "metadata": {},
     "output_type": "execute_result"
    }
   ],
   "source": [
    "np.matmul(had,ket_0), np.matmul(had,ket_1)"
   ]
  },
  {
   "cell_type": "code",
   "execution_count": 21,
   "metadata": {},
   "outputs": [
    {
     "data": {
      "text/plain": [
       "array([[1, 0, 0, 0],\n",
       "       [0, 1, 0, 0],\n",
       "       [0, 0, 0, 1],\n",
       "       [0, 0, 1, 0]])"
      ]
     },
     "execution_count": 21,
     "metadata": {},
     "output_type": "execute_result"
    }
   ],
   "source": [
    "cnot = np.array([[1,0,0,0],[0,1,0,0],[0,0,0,1],[0,0,1,0]])\n",
    "cnot"
   ]
  },
  {
   "cell_type": "code",
   "execution_count": null,
   "metadata": {},
   "outputs": [],
   "source": [
    "# Apply for sanity checks"
   ]
  },
  {
   "cell_type": "code",
   "execution_count": 23,
   "metadata": {},
   "outputs": [
    {
     "data": {
      "text/plain": [
       "array([[1],\n",
       "       [0],\n",
       "       [0],\n",
       "       [0]])"
      ]
     },
     "execution_count": 23,
     "metadata": {},
     "output_type": "execute_result"
    }
   ],
   "source": [
    "# The tensor product corresponds to the Kronecker product \n",
    "zero_zero = np.kron(ket_0,ket_0)\n",
    "zero_zero"
   ]
  },
  {
   "cell_type": "code",
   "execution_count": 24,
   "metadata": {},
   "outputs": [
    {
     "data": {
      "text/plain": [
       "array([[1],\n",
       "       [0],\n",
       "       [0],\n",
       "       [0]])"
      ]
     },
     "execution_count": 24,
     "metadata": {},
     "output_type": "execute_result"
    }
   ],
   "source": [
    "# Gates are matmul\n",
    "np.matmul(cnot, zero_zero)"
   ]
  },
  {
   "cell_type": "code",
   "execution_count": 25,
   "metadata": {},
   "outputs": [
    {
     "data": {
      "text/plain": [
       "(array([[0],\n",
       "        [0],\n",
       "        [1],\n",
       "        [0]]),\n",
       " array([[0],\n",
       "        [0],\n",
       "        [0],\n",
       "        [1]]))"
      ]
     },
     "execution_count": 25,
     "metadata": {},
     "output_type": "execute_result"
    }
   ],
   "source": [
    "np.kron(ket_1,ket_0), np.matmul(cnot, np.kron(ket_1,ket_0))"
   ]
  },
  {
   "cell_type": "code",
   "execution_count": null,
   "metadata": {},
   "outputs": [],
   "source": [
    "# Exercise: prove CNOT takes 00 to 00, 01 to 01, 10 to 11, 11 to 10"
   ]
  },
  {
   "cell_type": "code",
   "execution_count": null,
   "metadata": {},
   "outputs": [],
   "source": [
    "# Exercise: work out other two cases"
   ]
  },
  {
   "cell_type": "code",
   "execution_count": null,
   "metadata": {},
   "outputs": [],
   "source": [
    "# Extra credit to think about: \n",
    "# Compare binary representations of integers with the result of tensor/kronecker on basis states.\n",
    "# E.g. 6 is represented as 110 in binary.  \n",
    "# What would a \"qubit representation\" of 13 be, and what does it look like \n",
    "# after expanding the tensor?"
   ]
  },
  {
   "cell_type": "code",
   "execution_count": 26,
   "metadata": {},
   "outputs": [
    {
     "data": {
      "text/latex": [
       "$$|\"13\"\\rangle = |????\\rangle = \n",
       "\\begin{bmatrix}\n",
       "? \\\\\n",
       "\\vdots \\\\\n",
       "? \\\\\n",
       "\\end{bmatrix}$$\n"
      ],
      "text/plain": [
       "<IPython.core.display.Latex object>"
      ]
     },
     "metadata": {},
     "output_type": "display_data"
    }
   ],
   "source": [
    "%%latex\n",
    "$$|\"13\"\\rangle = |????\\rangle = \n",
    "\\begin{bmatrix}\n",
    "? \\\\\n",
    "\\vdots \\\\\n",
    "? \\\\\n",
    "\\end{bmatrix}$$"
   ]
  },
  {
   "cell_type": "code",
   "execution_count": null,
   "metadata": {},
   "outputs": [],
   "source": []
  },
  {
   "cell_type": "code",
   "execution_count": null,
   "metadata": {},
   "outputs": [],
   "source": []
  },
  {
   "cell_type": "code",
   "execution_count": null,
   "metadata": {},
   "outputs": [],
   "source": []
  },
  {
   "cell_type": "code",
   "execution_count": null,
   "metadata": {},
   "outputs": [],
   "source": []
  },
  {
   "cell_type": "code",
   "execution_count": null,
   "metadata": {},
   "outputs": [],
   "source": []
  },
  {
   "cell_type": "code",
   "execution_count": null,
   "metadata": {},
   "outputs": [],
   "source": []
  },
  {
   "cell_type": "code",
   "execution_count": null,
   "metadata": {},
   "outputs": [],
   "source": []
  },
  {
   "cell_type": "code",
   "execution_count": null,
   "metadata": {},
   "outputs": [],
   "source": []
  },
  {
   "cell_type": "code",
   "execution_count": null,
   "metadata": {},
   "outputs": [],
   "source": []
  },
  {
   "cell_type": "code",
   "execution_count": null,
   "metadata": {},
   "outputs": [],
   "source": []
  },
  {
   "cell_type": "code",
   "execution_count": null,
   "metadata": {},
   "outputs": [],
   "source": []
  },
  {
   "cell_type": "code",
   "execution_count": null,
   "metadata": {},
   "outputs": [],
   "source": []
  },
  {
   "cell_type": "code",
   "execution_count": null,
   "metadata": {},
   "outputs": [],
   "source": []
  },
  {
   "cell_type": "code",
   "execution_count": null,
   "metadata": {},
   "outputs": [],
   "source": []
  },
  {
   "cell_type": "code",
   "execution_count": null,
   "metadata": {},
   "outputs": [],
   "source": [
    "thirteen = np.kron(ket_1, np.kron(ket_1, np.kron(ket_0,ket_1)))\n",
    "thirteen"
   ]
  },
  {
   "cell_type": "code",
   "execution_count": null,
   "metadata": {},
   "outputs": [],
   "source": [
    "# Recover the integer!\n",
    "np.where(thirteen == 1)"
   ]
  },
  {
   "cell_type": "code",
   "execution_count": null,
   "metadata": {},
   "outputs": [],
   "source": []
  },
  {
   "cell_type": "code",
   "execution_count": null,
   "metadata": {},
   "outputs": [],
   "source": []
  },
  {
   "cell_type": "code",
   "execution_count": null,
   "metadata": {},
   "outputs": [],
   "source": []
  }
 ],
 "metadata": {
  "kernelspec": {
   "display_name": "Python 3",
   "language": "python",
   "name": "python3"
  },
  "language_info": {
   "codemirror_mode": {
    "name": "ipython",
    "version": 3
   },
   "file_extension": ".py",
   "mimetype": "text/x-python",
   "name": "python",
   "nbconvert_exporter": "python",
   "pygments_lexer": "ipython3",
   "version": "3.7.7"
  }
 },
 "nbformat": 4,
 "nbformat_minor": 4
}
